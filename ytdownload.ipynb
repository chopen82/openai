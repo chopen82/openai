{
 "cells": [
  {
   "cell_type": "code",
   "execution_count": 3,
   "id": "ba45e076-928f-4495-adf2-e00229c3b431",
   "metadata": {},
   "outputs": [],
   "source": [
    "from pytube import YouTube\n",
    "import os\n",
    "\n",
    "yt = YouTube('https://www.youtube.com/watch?v=R6TOyFZmXWU')\n",
    "\n",
    "video = yt.streams.filter(only_audio=True).first()\n",
    "\n",
    "out_file = video.download(output_path=\"/home/fryderyk/yt\")\n",
    "\n",
    "base, ext = os.path.splitext(out_file)\n",
    "new_file = base + '.mp3'\n",
    "os.rename(out_file, new_file)"
   ]
  },
  {
   "cell_type": "code",
   "execution_count": null,
   "id": "6c309e24-1e1e-4ef2-b82e-dc2735af9365",
   "metadata": {},
   "outputs": [],
   "source": []
  }
 ],
 "metadata": {
  "kernelspec": {
   "display_name": "Python [conda env:torch] *",
   "language": "python",
   "name": "conda-env-torch-py"
  },
  "language_info": {
   "codemirror_mode": {
    "name": "ipython",
    "version": 3
   },
   "file_extension": ".py",
   "mimetype": "text/x-python",
   "name": "python",
   "nbconvert_exporter": "python",
   "pygments_lexer": "ipython3",
   "version": "3.10.8"
  }
 },
 "nbformat": 4,
 "nbformat_minor": 5
}
