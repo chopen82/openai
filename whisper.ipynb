{
 "cells": [
  {
   "cell_type": "code",
   "execution_count": 1,
   "id": "5009ea2a-bb84-401c-a249-e5af17530c08",
   "metadata": {},
   "outputs": [
    {
     "data": {
      "text/plain": [
       "'cuda'"
      ]
     },
     "execution_count": 1,
     "metadata": {},
     "output_type": "execute_result"
    }
   ],
   "source": [
    "import torch\n",
    "torch.cuda.is_available()\n",
    "device = \"cuda\" if torch.cuda.is_available() else \"cpu\"\n",
    "device"
   ]
  },
  {
   "cell_type": "code",
   "execution_count": 2,
   "id": "70337b9f-9ee1-4582-bcfa-2be936e9c97a",
   "metadata": {},
   "outputs": [],
   "source": [
    "#!pip install -U openai-whisper\n",
    "import whisper\n",
    "# You can choose your model from - see it on readme file and update the modelname\n",
    "#modelname = \"large-v2\"\n",
    "modelname = \"medium\"\n",
    "model = whisper.load_model(modelname)"
   ]
  },
  {
   "cell_type": "code",
   "execution_count": 3,
   "id": "161a5400-9759-4e1b-9d7a-035ef0fdd8da",
   "metadata": {},
   "outputs": [],
   "source": [
    "#audio_file_path = \"/home/fryderyk/audio/grunwald_1410.wav\"\n",
    "audio_file_path = \"/home/fryderyk/Music/maja-len.wav\""
   ]
  },
  {
   "cell_type": "code",
   "execution_count": 4,
   "id": "b1088fb3-c49e-466d-9677-b498d6b1fd14",
   "metadata": {
    "tags": []
   },
   "outputs": [
    {
     "name": "stdout",
     "output_type": "stream",
     "text": [
      " Na tapczanie siedzi leń, nic nie robi cały dzień. O, wypraszam to sobie, jak to ja nic nie robię. A kto siedzi na tapczanie? A kto zjadł pierwsze śniadanie? A kto dziś pluł i łapał? A kto się wygłowę podrapał? A kto dziś zgubił kalosze? O, o proszę, na tapczanie siedzi leń, nic nie robi cały dzień. Przepraszam, a tranu nie piłem, a uszu dzisiaj nie myłem, a nie urwałem guzika, a nie pokazałem języka, a nie chodziłem się strzyc, to wszystko nazywa się nic. Na tapczanie siedzi leń, nic nie robi cały dzień. Nie poszedł do szkoły, bo mu się nie chciało. Nie odrobił lekcji, bo czasu miał za mało. Nie zasznurował trzewików, bo nie miał ochoty. Nie powiedział dzień dobry, bo z tym za dużo roboty. Nie napoił azorka, bo za daleko jest woda. Nie nakarmił kanarka, bo czasu mu było szkoda. Miał zjeść kolacy, tylko ustami mlasnął. Miał położyć się, spać, zasnął. Śniło mu się, że nad czymś ogromnie się trudził. Tak się zmęczył tym snem, że się obudził.\n",
      "--- 46.79446625709534 seconds ---\n"
     ]
    }
   ],
   "source": [
    "import time\n",
    "start_time = time.time()\n",
    "options = dict(language=\"pl\")\n",
    "transcribe_options = dict(task=\"transcribe\",**options)\n",
    "result = model.transcribe(audio_file_path,fp16=False,**transcribe_options)\n",
    "print(result[\"text\"])\n",
    "print(\"--- %s seconds ---\" % (time.time() - start_time))"
   ]
  },
  {
   "cell_type": "code",
   "execution_count": null,
   "id": "085c049f-8c29-473f-b131-b02eb9b50bc9",
   "metadata": {},
   "outputs": [],
   "source": []
  }
 ],
 "metadata": {
  "kernelspec": {
   "display_name": "Python 3.10 (torch_cuda)",
   "language": "python",
   "name": "torch_cuda"
  },
  "language_info": {
   "codemirror_mode": {
    "name": "ipython",
    "version": 3
   },
   "file_extension": ".py",
   "mimetype": "text/x-python",
   "name": "python",
   "nbconvert_exporter": "python",
   "pygments_lexer": "ipython3",
   "version": "3.10.10"
  }
 },
 "nbformat": 4,
 "nbformat_minor": 5
}
